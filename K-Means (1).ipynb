{
 "cells": [
  {
   "cell_type": "markdown",
   "metadata": {},
   "source": [
    "# k Means project"
   ]
  },
  {
   "cell_type": "code",
   "execution_count": 1,
   "metadata": {},
   "outputs": [],
   "source": [
    "# import libraries    \n",
    "import numpy as np\n",
    "import matplotlib.pyplot as plt    \n",
    "import pandas as pd    \n",
    "from sklearn.cluster import KMeans  \n",
    "import seaborn as sns\n",
    "import squarify\n"
   ]
  },
  {
   "cell_type": "markdown",
   "metadata": {},
   "source": [
    "# Load data"
   ]
  },
  {
   "cell_type": "code",
   "execution_count": 2,
   "metadata": {},
   "outputs": [],
   "source": [
    "df = pd.read_csv('Intel.csv')"
   ]
  },
  {
   "cell_type": "code",
   "execution_count": 3,
   "metadata": {},
   "outputs": [
    {
     "data": {
      "text/html": [
       "<div>\n",
       "<style scoped>\n",
       "    .dataframe tbody tr th:only-of-type {\n",
       "        vertical-align: middle;\n",
       "    }\n",
       "\n",
       "    .dataframe tbody tr th {\n",
       "        vertical-align: top;\n",
       "    }\n",
       "\n",
       "    .dataframe thead th {\n",
       "        text-align: right;\n",
       "    }\n",
       "</style>\n",
       "<table border=\"1\" class=\"dataframe\">\n",
       "  <thead>\n",
       "    <tr style=\"text-align: right;\">\n",
       "      <th></th>\n",
       "      <th>date</th>\n",
       "      <th>open</th>\n",
       "      <th>high</th>\n",
       "      <th>low</th>\n",
       "      <th>close</th>\n",
       "      <th>volume</th>\n",
       "    </tr>\n",
       "  </thead>\n",
       "  <tbody>\n",
       "    <tr>\n",
       "      <th>0</th>\n",
       "      <td>1980-03-17</td>\n",
       "      <td>0.1927</td>\n",
       "      <td>0.1958</td>\n",
       "      <td>0.1927</td>\n",
       "      <td>0.1927</td>\n",
       "      <td>10924800</td>\n",
       "    </tr>\n",
       "    <tr>\n",
       "      <th>1</th>\n",
       "      <td>1980-03-18</td>\n",
       "      <td>0.1927</td>\n",
       "      <td>0.1943</td>\n",
       "      <td>0.1912</td>\n",
       "      <td>0.1912</td>\n",
       "      <td>17068800</td>\n",
       "    </tr>\n",
       "    <tr>\n",
       "      <th>2</th>\n",
       "      <td>1980-03-19</td>\n",
       "      <td>0.1958</td>\n",
       "      <td>0.1989</td>\n",
       "      <td>0.1958</td>\n",
       "      <td>0.1958</td>\n",
       "      <td>18508800</td>\n",
       "    </tr>\n",
       "    <tr>\n",
       "      <th>3</th>\n",
       "      <td>1980-03-20</td>\n",
       "      <td>0.1958</td>\n",
       "      <td>0.1981</td>\n",
       "      <td>0.1950</td>\n",
       "      <td>0.1950</td>\n",
       "      <td>11174400</td>\n",
       "    </tr>\n",
       "    <tr>\n",
       "      <th>4</th>\n",
       "      <td>1980-03-21</td>\n",
       "      <td>0.1912</td>\n",
       "      <td>0.1912</td>\n",
       "      <td>0.1881</td>\n",
       "      <td>0.1881</td>\n",
       "      <td>12172800</td>\n",
       "    </tr>\n",
       "  </tbody>\n",
       "</table>\n",
       "</div>"
      ],
      "text/plain": [
       "         date    open    high     low   close    volume\n",
       "0  1980-03-17  0.1927  0.1958  0.1927  0.1927  10924800\n",
       "1  1980-03-18  0.1927  0.1943  0.1912  0.1912  17068800\n",
       "2  1980-03-19  0.1958  0.1989  0.1958  0.1958  18508800\n",
       "3  1980-03-20  0.1958  0.1981  0.1950  0.1950  11174400\n",
       "4  1980-03-21  0.1912  0.1912  0.1881  0.1881  12172800"
      ]
     },
     "execution_count": 3,
     "metadata": {},
     "output_type": "execute_result"
    }
   ],
   "source": [
    "df.head()"
   ]
  },
  {
   "cell_type": "markdown",
   "metadata": {},
   "source": [
    "# Data pre-processing Step\n"
   ]
  },
  {
   "cell_type": "markdown",
   "metadata": {},
   "source": [
    "### Drop irrelevant features"
   ]
  },
  {
   "cell_type": "code",
   "execution_count": 4,
   "metadata": {},
   "outputs": [],
   "source": [
    "data = df.drop(columns=['date','volume'])"
   ]
  },
  {
   "cell_type": "markdown",
   "metadata": {},
   "source": [
    "### Drop duplicate data"
   ]
  },
  {
   "cell_type": "code",
   "execution_count": null,
   "metadata": {},
   "outputs": [
    {
     "data": {
      "text/plain": [
       "362"
      ]
     },
     "execution_count": 6,
     "metadata": {},
     "output_type": "execute_result"
    }
   ],
   "source": [
    "#check duplication\n",
    "data.duplicated().sum()"
   ]
  },
  {
   "cell_type": "code",
   "execution_count": null,
   "metadata": {},
   "outputs": [],
   "source": [
    "# removing duplicates \n",
    "data.drop_duplicates(inplace=True)"
   ]
  },
  {
   "cell_type": "code",
   "execution_count": null,
   "metadata": {},
   "outputs": [
    {
     "data": {
      "text/plain": [
       "0"
      ]
     },
     "execution_count": 8,
     "metadata": {},
     "output_type": "execute_result"
    }
   ],
   "source": [
    "# check duplication\n",
    "data.duplicated().sum()"
   ]
  },
  {
   "cell_type": "code",
   "execution_count": null,
   "metadata": {},
   "outputs": [
    {
     "data": {
      "text/html": [
       "<div>\n",
       "<style scoped>\n",
       "    .dataframe tbody tr th:only-of-type {\n",
       "        vertical-align: middle;\n",
       "    }\n",
       "\n",
       "    .dataframe tbody tr th {\n",
       "        vertical-align: top;\n",
       "    }\n",
       "\n",
       "    .dataframe thead th {\n",
       "        text-align: right;\n",
       "    }\n",
       "</style>\n",
       "<table border=\"1\" class=\"dataframe\">\n",
       "  <thead>\n",
       "    <tr style=\"text-align: right;\">\n",
       "      <th></th>\n",
       "      <th>open</th>\n",
       "      <th>high</th>\n",
       "      <th>low</th>\n",
       "      <th>close</th>\n",
       "    </tr>\n",
       "  </thead>\n",
       "  <tbody>\n",
       "    <tr>\n",
       "      <th>count</th>\n",
       "      <td>10265.000000</td>\n",
       "      <td>10265.000000</td>\n",
       "      <td>10265.000000</td>\n",
       "      <td>10265.000000</td>\n",
       "    </tr>\n",
       "    <tr>\n",
       "      <th>mean</th>\n",
       "      <td>15.301306</td>\n",
       "      <td>15.501838</td>\n",
       "      <td>15.102351</td>\n",
       "      <td>15.301417</td>\n",
       "    </tr>\n",
       "    <tr>\n",
       "      <th>std</th>\n",
       "      <td>15.317827</td>\n",
       "      <td>15.505949</td>\n",
       "      <td>15.135517</td>\n",
       "      <td>15.320879</td>\n",
       "    </tr>\n",
       "    <tr>\n",
       "      <th>min</th>\n",
       "      <td>0.129500</td>\n",
       "      <td>0.129500</td>\n",
       "      <td>0.128000</td>\n",
       "      <td>0.128000</td>\n",
       "    </tr>\n",
       "    <tr>\n",
       "      <th>25%</th>\n",
       "      <td>0.911200</td>\n",
       "      <td>0.925100</td>\n",
       "      <td>0.888100</td>\n",
       "      <td>0.911200</td>\n",
       "    </tr>\n",
       "    <tr>\n",
       "      <th>50%</th>\n",
       "      <td>13.265800</td>\n",
       "      <td>13.415200</td>\n",
       "      <td>13.078700</td>\n",
       "      <td>13.255700</td>\n",
       "    </tr>\n",
       "    <tr>\n",
       "      <th>75%</th>\n",
       "      <td>20.112900</td>\n",
       "      <td>20.409600</td>\n",
       "      <td>19.828500</td>\n",
       "      <td>20.078900</td>\n",
       "    </tr>\n",
       "    <tr>\n",
       "      <th>max</th>\n",
       "      <td>65.848100</td>\n",
       "      <td>66.128100</td>\n",
       "      <td>64.332300</td>\n",
       "      <td>65.906100</td>\n",
       "    </tr>\n",
       "  </tbody>\n",
       "</table>\n",
       "</div>"
      ],
      "text/plain": [
       "               open          high           low         close\n",
       "count  10265.000000  10265.000000  10265.000000  10265.000000\n",
       "mean      15.301306     15.501838     15.102351     15.301417\n",
       "std       15.317827     15.505949     15.135517     15.320879\n",
       "min        0.129500      0.129500      0.128000      0.128000\n",
       "25%        0.911200      0.925100      0.888100      0.911200\n",
       "50%       13.265800     13.415200     13.078700     13.255700\n",
       "75%       20.112900     20.409600     19.828500     20.078900\n",
       "max       65.848100     66.128100     64.332300     65.906100"
      ]
     },
     "execution_count": 9,
     "metadata": {},
     "output_type": "execute_result"
    }
   ],
   "source": [
    "#statistical description of data\n",
    "data.describe()"
   ]
  },
  {
   "cell_type": "code",
   "execution_count": null,
   "metadata": {},
   "outputs": [
    {
     "name": "stdout",
     "output_type": "stream",
     "text": [
      "<class 'pandas.core.frame.DataFrame'>\n",
      "Int64Index: 10265 entries, 0 to 10626\n",
      "Data columns (total 4 columns):\n",
      " #   Column  Non-Null Count  Dtype  \n",
      "---  ------  --------------  -----  \n",
      " 0   open    10265 non-null  float64\n",
      " 1   high    10265 non-null  float64\n",
      " 2   low     10265 non-null  float64\n",
      " 3   close   10265 non-null  float64\n",
      "dtypes: float64(4)\n",
      "memory usage: 401.0 KB\n"
     ]
    }
   ],
   "source": [
    "#Info of the data\n",
    "data.info()"
   ]
  },
  {
   "cell_type": "code",
   "execution_count": null,
   "metadata": {},
   "outputs": [
    {
     "data": {
      "text/plain": [
       "open     0\n",
       "high     0\n",
       "low      0\n",
       "close    0\n",
       "dtype: int64"
      ]
     },
     "execution_count": 11,
     "metadata": {},
     "output_type": "execute_result"
    }
   ],
   "source": [
    "#Check null values\n",
    "data.isnull().sum()"
   ]
  },
  {
   "cell_type": "code",
   "execution_count": null,
   "metadata": {},
   "outputs": [
    {
     "data": {
      "text/html": [
       "<div>\n",
       "<style scoped>\n",
       "    .dataframe tbody tr th:only-of-type {\n",
       "        vertical-align: middle;\n",
       "    }\n",
       "\n",
       "    .dataframe tbody tr th {\n",
       "        vertical-align: top;\n",
       "    }\n",
       "\n",
       "    .dataframe thead th {\n",
       "        text-align: right;\n",
       "    }\n",
       "</style>\n",
       "<table border=\"1\" class=\"dataframe\">\n",
       "  <thead>\n",
       "    <tr style=\"text-align: right;\">\n",
       "      <th></th>\n",
       "      <th>open</th>\n",
       "      <th>high</th>\n",
       "      <th>low</th>\n",
       "      <th>close</th>\n",
       "    </tr>\n",
       "  </thead>\n",
       "  <tbody>\n",
       "    <tr>\n",
       "      <th>open</th>\n",
       "      <td>1.000000</td>\n",
       "      <td>0.999840</td>\n",
       "      <td>0.999846</td>\n",
       "      <td>0.999681</td>\n",
       "    </tr>\n",
       "    <tr>\n",
       "      <th>high</th>\n",
       "      <td>0.999840</td>\n",
       "      <td>1.000000</td>\n",
       "      <td>0.999755</td>\n",
       "      <td>0.999827</td>\n",
       "    </tr>\n",
       "    <tr>\n",
       "      <th>low</th>\n",
       "      <td>0.999846</td>\n",
       "      <td>0.999755</td>\n",
       "      <td>1.000000</td>\n",
       "      <td>0.999843</td>\n",
       "    </tr>\n",
       "    <tr>\n",
       "      <th>close</th>\n",
       "      <td>0.999681</td>\n",
       "      <td>0.999827</td>\n",
       "      <td>0.999843</td>\n",
       "      <td>1.000000</td>\n",
       "    </tr>\n",
       "  </tbody>\n",
       "</table>\n",
       "</div>"
      ],
      "text/plain": [
       "           open      high       low     close\n",
       "open   1.000000  0.999840  0.999846  0.999681\n",
       "high   0.999840  1.000000  0.999755  0.999827\n",
       "low    0.999846  0.999755  1.000000  0.999843\n",
       "close  0.999681  0.999827  0.999843  1.000000"
      ]
     },
     "execution_count": 12,
     "metadata": {},
     "output_type": "execute_result"
    }
   ],
   "source": [
    "#Check correlation \n",
    "data.corr()"
   ]
  },
  {
   "cell_type": "markdown",
   "metadata": {},
   "source": [
    "## The features are strong correlated"
   ]
  },
  {
   "cell_type": "code",
   "execution_count": null,
   "metadata": {},
   "outputs": [
    {
     "data": {
      "text/plain": [
       "(10265, 4)"
      ]
     },
     "execution_count": 13,
     "metadata": {},
     "output_type": "execute_result"
    }
   ],
   "source": [
    "data.shape"
   ]
  },
  {
   "cell_type": "markdown",
   "metadata": {},
   "source": [
    "# EDA step"
   ]
  },
  {
   "cell_type": "code",
   "execution_count": null,
   "metadata": {},
   "outputs": [
    {
     "data": {
      "text/plain": [
       "<matplotlib.legend.Legend at 0x1fbdcece4f0>"
      ]
     },
     "execution_count": 41,
     "metadata": {},
     "output_type": "execute_result"
    },
    {
     "data": {
      "image/png": "[encoded data removed]",
      "text/plain": [
       "<Figure size 720x504 with 1 Axes>"
      ]
     },
     "metadata": {},
     "output_type": "display_data"
    }
   ],
   "source": [
    "#compare the  histograms \n",
    "plt.figure(figsize=(10,7))\n",
    "#define the open coloumn from data and define the name of label and the color of the histogram\n",
    "plt.hist(df[\"open\"], bins=10, alpha=0.9, label=\"open time\",color=\"blue\")\n",
    "#define the close length coloumn from data and define the name of label and the color of the histogram\n",
    "plt.hist(df[\"high\"], bins=10, alpha=0.9, label=\"high price\",color=\"#66CDAA\")\n",
    "#name the label of x\n",
    "plt.xlabel(\"price\", size=15)\n",
    "#name the label of y\n",
    "plt.ylabel(\"Count\", size=15)\n",
    "#name the title of plot\n",
    "plt.title(\"comapre Highest price in opening intel market \")\n",
    "#to show the petall length over the sepall length\n",
    "plt.legend(loc='upper right')"
   ]
  },
  {
   "cell_type": "code",
   "execution_count": null,
   "metadata": {},
   "outputs": [
    {
     "data": {
      "image/png": "[encoded data removed]",
      "text/plain": [
       "<Figure size 432x288 with 1 Axes>"
      ]
     },
     "metadata": {
      "needs_background": "light"
     },
     "output_type": "display_data"
    }
   ],
   "source": [
    "#Scatter Plot\n",
    "#scatter plot take the 2 coloums of what it need to visulalize\n",
    "plt.scatter(df['high'], df['open'])\n",
    "#named the title of plot\n",
    "plt.title(\"Scatter Plot\")\n",
    "#named the title of x label\n",
    "plt.xlabel(\"high\")\n",
    "#named the title of y label\n",
    "plt.ylabel(\"open\")\n",
    "plt.show()"
   ]
  },
  {
   "cell_type": "code",
   "execution_count": null,
   "metadata": {},
   "outputs": [
    {
     "data": {
      "image/png": "[encoded data removed]",
      "text/plain": [
       "<Figure size 1080x360 with 2 Axes>"
      ]
     },
     "metadata": {
      "needs_background": "light"
     },
     "output_type": "display_data"
    }
   ],
   "source": [
    "df_1=df.groupby('high')['open'].sum().to_frame().reset_index()\n",
    "df_2=df.groupby('high')['close'].sum().to_frame().reset_index()\n",
    "#we will split it into 2 parts start and end graph\n",
    "#Set a larger figure size for subplots\n",
    "plt.figure(figsize=[15,5]);\n",
    "# 1 rows, 2 col, subplot 1\n",
    "plt.subplot(1, 2 ,1)\n",
    "plt.plot(data.high, data.open)\n",
    "#x axis label\n",
    "plt.xlabel(\"highest prices\",size=20)\n",
    "plt.xticks(size=15)\n",
    "#y axis label\n",
    "plt.ylabel(\"Count\",size=20)\n",
    "plt.yticks(size=15)\n",
    "#plot label\n",
    "plt.title(\"prices in opening\",size = 20)   \n",
    "\n",
    "# 2 row, 1 col, subplot 2\n",
    "plt.subplot(1, 2, 2) \n",
    "plt.plot(data.high, data.close)\n",
    "plt.xlabel(\"highest prices\",size=20)\n",
    "plt.xticks(size=15)\n",
    "#y axis label\n",
    "plt.ylabel(\"Count\",size=20)\n",
    "plt.yticks(size=15)\n",
    "#plot label\n",
    "plt.title(\"prices in closing\",size = 20);\n",
    "plt.subplots_adjust(bottom=0.1,\n",
    "                    top=0.9, \n",
    "                    wspace=0.4, \n",
    "                    hspace=0.4)"
   ]
  },
  {
   "cell_type": "markdown",
   "metadata": {},
   "source": [
    "#  Finding the optimal number of clusters using the elbow method\n"
   ]
  },
  {
   "cell_type": "markdown",
   "metadata": {},
   "source": [
    "we will try to find the optimal number of clusters for our clustering problem. So, as discussed above, here we are going to use the elbow method for this purpose.\n",
    "\n",
    "As we know, the elbow method uses the WCSS concept to draw the plot by plotting WCSS values on the Y-axis and the number of clusters on the X-axis. So we are going to calculate the value for WCSS for different k values ranging from 1 to 10. Below is the code for it:"
   ]
  },
  {
   "cell_type": "markdown",
   "metadata": {},
   "source": [
    "WCSS is the sum of squared distance between each point and the centroid in a cluster. When we plot the WCSS with the K value, the plot looks like an Elbow. As the number of clusters increases, the WCSS value will start to decrease. WCSS value is largest when K = 1."
   ]
  },
  {
   "cell_type": "code",
   "execution_count": null,
   "metadata": {},
   "outputs": [
    {
     "data": {
      "image/png": "[encoded data removed]",
      "text/plain": [
       "<Figure size 432x288 with 1 Axes>"
      ]
     },
     "metadata": {
      "needs_background": "light"
     },
     "output_type": "display_data"
    }
   ],
   "source": [
    "#finding optimal number of clusters using the elbow method  \n",
    "#Initializing the list for the values of WCSS  \n",
    "wcss_list= []   \n",
    "#Using for loop for iterations from 1 to 10.  \n",
    "for i in range(1, 11):  \n",
    "    kmeans = KMeans(n_clusters=i, init='k-means++', random_state= 42)  \n",
    "    kmeans.fit(data)  \n",
    "    wcss_list.append(kmeans.inertia_)  \n",
    "plt.plot(range(1, 11), wcss_list)  \n",
    "plt.title('The Elobw Method Graph')  \n",
    "plt.xlabel('Number of clusters(k)')  \n",
    "plt.ylabel('wcss_list')  \n",
    "plt.show()  "
   ]
  },
  {
   "cell_type": "markdown",
   "metadata": {},
   "source": [
    "In the plot above the elbow is at k=5 indicating the optimal k for this dataset is 5\n",
    "\n"
   ]
  },
  {
   "cell_type": "markdown",
   "metadata": {},
   "source": [
    "# Training the K-means algorithm on the training dataset\n"
   ]
  },
  {
   "cell_type": "code",
   "execution_count": null,
   "metadata": {},
   "outputs": [],
   "source": [
    "#training the K-means model on a dataset  \n",
    "kmeans = KMeans(n_clusters=5, init='k-means++', random_state= 42)  \n",
    "y_predict= kmeans.fit_predict(data)  "
   ]
  },
  {
   "cell_type": "code",
   "execution_count": null,
   "metadata": {},
   "outputs": [
    {
     "data": {
      "text/plain": [
       "array([1, 1, 1, ..., 2, 2, 2])"
      ]
     },
     "execution_count": 20,
     "metadata": {},
     "output_type": "execute_result"
    }
   ],
   "source": [
    "y_predict"
   ]
  },
  {
   "cell_type": "markdown",
   "metadata": {},
   "source": [
    "# Step-4: Visualizing the Clusters\n"
   ]
  },
  {
   "cell_type": "code",
   "execution_count": null,
   "metadata": {},
   "outputs": [
    {
     "data": {
      "image/png": "[encoded data removed]",
      "text/plain": [
       "<Figure size 432x288 with 1 Axes>"
      ]
     },
     "metadata": {
      "needs_background": "light"
     },
     "output_type": "display_data"
    }
   ],
   "source": [
    "#visulaizing the clusters  \n",
    "plt.scatter(data.values[y_predict == 0, 0], data.values[y_predict == 0, 1], s = 100, c = 'blue', label = 'Cluster 1') #for first cluster \n",
    "\n",
    "plt.scatter(data.values[y_predict == 1, 0], data.values[y_predict == 1, 1], s = 100, c = 'green', label = 'Cluster 2') #for second cluster  \n",
    "\n",
    "plt.scatter(data.values[y_predict== 2, 0], data.values[y_predict == 2, 1], s = 100, c = 'red', label = 'Cluster 3') #for third cluster  \n",
    "\n",
    "plt.scatter(data.values[y_predict == 3, 0], data.values[y_predict == 3, 1], s = 100, c = 'cyan', label = 'Cluster 4') #for fourth cluster  \n",
    "\n",
    "plt.scatter(data.values[y_predict == 4, 0], data.values[y_predict == 4, 1], s = 100, c = 'magenta', label = 'Cluster 5') #for fifth cluster  \n",
    "\n",
    "plt.scatter(kmeans.cluster_centers_[:, 0], kmeans.cluster_centers_[:, 1], s = 300, c = 'yellow', label = 'Centroid')   \n",
    "\n",
    "plt.title('kmeans')  \n",
    "plt.xlabel('x')  \n",
    "plt.ylabel('y')  \n",
    "plt.legend()  \n",
    "plt.show()  "
   ]
  },
  {
   "cell_type": "code",
   "execution_count": null,
   "metadata": {},
   "outputs": [],
   "source": [
    "#get the labels of clustring\n",
    "labels=kmeans.labels_\n",
    "data['clusters']=labels"
   ]
  },
  {
   "cell_type": "code",
   "execution_count": null,
   "metadata": {},
   "outputs": [
    {
     "data": {
      "text/html": [
       "<div>\n",
       "<style scoped>\n",
       "    .dataframe tbody tr th:only-of-type {\n",
       "        vertical-align: middle;\n",
       "    }\n",
       "\n",
       "    .dataframe tbody tr th {\n",
       "        vertical-align: top;\n",
       "    }\n",
       "\n",
       "    .dataframe thead th {\n",
       "        text-align: right;\n",
       "    }\n",
       "</style>\n",
       "<table border=\"1\" class=\"dataframe\">\n",
       "  <thead>\n",
       "    <tr style=\"text-align: right;\">\n",
       "      <th></th>\n",
       "      <th>open</th>\n",
       "      <th>high</th>\n",
       "      <th>low</th>\n",
       "      <th>close</th>\n",
       "      <th>clusters</th>\n",
       "    </tr>\n",
       "  </thead>\n",
       "  <tbody>\n",
       "    <tr>\n",
       "      <th>0</th>\n",
       "      <td>0.1927</td>\n",
       "      <td>0.1958</td>\n",
       "      <td>0.1927</td>\n",
       "      <td>0.1927</td>\n",
       "      <td>1</td>\n",
       "    </tr>\n",
       "    <tr>\n",
       "      <th>1</th>\n",
       "      <td>0.1927</td>\n",
       "      <td>0.1943</td>\n",
       "      <td>0.1912</td>\n",
       "      <td>0.1912</td>\n",
       "      <td>1</td>\n",
       "    </tr>\n",
       "    <tr>\n",
       "      <th>2</th>\n",
       "      <td>0.1958</td>\n",
       "      <td>0.1989</td>\n",
       "      <td>0.1958</td>\n",
       "      <td>0.1958</td>\n",
       "      <td>1</td>\n",
       "    </tr>\n",
       "    <tr>\n",
       "      <th>3</th>\n",
       "      <td>0.1958</td>\n",
       "      <td>0.1981</td>\n",
       "      <td>0.1950</td>\n",
       "      <td>0.1950</td>\n",
       "      <td>1</td>\n",
       "    </tr>\n",
       "    <tr>\n",
       "      <th>4</th>\n",
       "      <td>0.1912</td>\n",
       "      <td>0.1912</td>\n",
       "      <td>0.1881</td>\n",
       "      <td>0.1881</td>\n",
       "      <td>1</td>\n",
       "    </tr>\n",
       "  </tbody>\n",
       "</table>\n",
       "</div>"
      ],
      "text/plain": [
       "     open    high     low   close  clusters\n",
       "0  0.1927  0.1958  0.1927  0.1927         1\n",
       "1  0.1927  0.1943  0.1912  0.1912         1\n",
       "2  0.1958  0.1989  0.1958  0.1958         1\n",
       "3  0.1958  0.1981  0.1950  0.1950         1\n",
       "4  0.1912  0.1912  0.1881  0.1881         1"
      ]
     },
     "execution_count": 24,
     "metadata": {},
     "output_type": "execute_result"
    }
   ],
   "source": [
    "data.head()"
   ]
  },
  {
   "cell_type": "code",
   "execution_count": null,
   "metadata": {},
   "outputs": [
    {
     "data": {
      "text/html": [
       "<div>\n",
       "<style scoped>\n",
       "    .dataframe tbody tr th:only-of-type {\n",
       "        vertical-align: middle;\n",
       "    }\n",
       "\n",
       "    .dataframe tbody tr th {\n",
       "        vertical-align: top;\n",
       "    }\n",
       "\n",
       "    .dataframe thead th {\n",
       "        text-align: right;\n",
       "    }\n",
       "</style>\n",
       "<table border=\"1\" class=\"dataframe\">\n",
       "  <thead>\n",
       "    <tr style=\"text-align: right;\">\n",
       "      <th></th>\n",
       "      <th>open</th>\n",
       "      <th>high</th>\n",
       "      <th>low</th>\n",
       "      <th>close</th>\n",
       "    </tr>\n",
       "    <tr>\n",
       "      <th>clusters</th>\n",
       "      <th></th>\n",
       "      <th></th>\n",
       "      <th></th>\n",
       "      <th></th>\n",
       "    </tr>\n",
       "  </thead>\n",
       "  <tbody>\n",
       "    <tr>\n",
       "      <th>0</th>\n",
       "      <td>28.026560</td>\n",
       "      <td>28.354007</td>\n",
       "      <td>27.711190</td>\n",
       "      <td>28.038928</td>\n",
       "    </tr>\n",
       "    <tr>\n",
       "      <th>1</th>\n",
       "      <td>1.251501</td>\n",
       "      <td>1.271063</td>\n",
       "      <td>1.232123</td>\n",
       "      <td>1.252232</td>\n",
       "    </tr>\n",
       "    <tr>\n",
       "      <th>2</th>\n",
       "      <td>44.170968</td>\n",
       "      <td>44.788104</td>\n",
       "      <td>43.591336</td>\n",
       "      <td>44.177051</td>\n",
       "    </tr>\n",
       "    <tr>\n",
       "      <th>3</th>\n",
       "      <td>14.974503</td>\n",
       "      <td>15.180353</td>\n",
       "      <td>14.761336</td>\n",
       "      <td>14.968548</td>\n",
       "    </tr>\n",
       "    <tr>\n",
       "      <th>4</th>\n",
       "      <td>54.832905</td>\n",
       "      <td>55.472951</td>\n",
       "      <td>54.198815</td>\n",
       "      <td>54.841963</td>\n",
       "    </tr>\n",
       "  </tbody>\n",
       "</table>\n",
       "</div>"
      ],
      "text/plain": [
       "               open       high        low      close\n",
       "clusters                                            \n",
       "0         28.026560  28.354007  27.711190  28.038928\n",
       "1          1.251501   1.271063   1.232123   1.252232\n",
       "2         44.170968  44.788104  43.591336  44.177051\n",
       "3         14.974503  15.180353  14.761336  14.968548\n",
       "4         54.832905  55.472951  54.198815  54.841963"
      ]
     },
     "execution_count": 25,
     "metadata": {},
     "output_type": "execute_result"
    }
   ],
   "source": [
    "#group the columns of data by its clusters\n",
    "data.groupby('clusters').mean()"
   ]
  },
  {
   "cell_type": "code",
   "execution_count": null,
   "metadata": {},
   "outputs": [
    {
     "data": {
      "text/plain": [
       "<seaborn.axisgrid.FacetGrid at 0x1fbdbbd9ee0>"
      ]
     },
     "execution_count": 29,
     "metadata": {},
     "output_type": "execute_result"
    },
    {
     "data": {
      "image/png": "[encoded data removed]",
      "text/plain": [
       "<Figure size 474.875x432 with 1 Axes>"
      ]
     },
     "metadata": {},
     "output_type": "display_data"
    }
   ],
   "source": [
    "#use whitegrid plot from seaborn library\n",
    "sns.set_style(\"whitegrid\")\n",
    "#define the attribute which plot depends on it (clusters) \n",
    "#dfine the kinf of the points in the plot (scatter )\n",
    "#then define the coloumns \n",
    "sns.FacetGrid(data, hue =\"clusters\",height = 6).map(plt.scatter,'open','high').add_legend()"
   ]
  },
  {
   "cell_type": "code",
   "execution_count": null,
   "metadata": {},
   "outputs": [
    {
     "data": {
      "text/plain": [
       "<seaborn.axisgrid.FacetGrid at 0x1fbdbd74bb0>"
      ]
     },
     "execution_count": 30,
     "metadata": {},
     "output_type": "execute_result"
    },
    {
     "data": {
      "image/png": "[encoded data removed]",
      "text/plain": [
       "<Figure size 474.875x432 with 1 Axes>"
      ]
     },
     "metadata": {},
     "output_type": "display_data"
    }
   ],
   "source": [
    "#use whitegrid plot from seaborn library\n",
    "sns.set_style(\"whitegrid\")\n",
    "#define the attribute which plot depends on it (clusters) \n",
    "#dfine the kinf of the points in the plot (scatter )\n",
    "#then define the coloumns \n",
    "sns.FacetGrid(data, hue =\"clusters\",height = 6).map(plt.scatter,'open','low').add_legend()"
   ]
  },
  {
   "cell_type": "code",
   "execution_count": null,
   "metadata": {},
   "outputs": [
    {
     "data": {
      "text/plain": [
       "<seaborn.axisgrid.FacetGrid at 0x1fbdbd312e0>"
      ]
     },
     "execution_count": 31,
     "metadata": {},
     "output_type": "execute_result"
    },
    {
     "data": {
      "image/png": "[encoded data removed]",
      "text/plain": [
       "<Figure size 474.875x432 with 1 Axes>"
      ]
     },
     "metadata": {},
     "output_type": "display_data"
    }
   ],
   "source": [
    "#use whitegrid plot from seaborn library\n",
    "sns.set_style(\"whitegrid\")\n",
    "#define the attribute which plot depends on it (clusters) \n",
    "#dfine the kinf of the points in the plot (scatter )\n",
    "#then define the coloumns \n",
    "sns.FacetGrid(data, hue =\"clusters\",height = 6).map(plt.scatter,'close','high').add_legend()"
   ]
  },
  {
   "cell_type": "code",
   "execution_count": null,
   "metadata": {},
   "outputs": [
    {
     "data": {
      "text/plain": [
       "<seaborn.axisgrid.FacetGrid at 0x1fbdcdf0dc0>"
      ]
     },
     "execution_count": 32,
     "metadata": {},
     "output_type": "execute_result"
    },
    {
     "data": {
      "image/png": "[encoded data removed]",
      "text/plain": [
       "<Figure size 474.875x432 with 1 Axes>"
      ]
     },
     "metadata": {},
     "output_type": "display_data"
    }
   ],
   "source": [
    "#use whitegrid plot from seaborn library\n",
    "sns.set_style(\"whitegrid\")\n",
    "#define the attribute which plot depends on it (clusters) \n",
    "#dfine the kinf of the points in the plot (scatter )\n",
    "#then define the coloumns \n",
    "sns.FacetGrid(data, hue =\"clusters\",height = 6).map(plt.scatter,'close','low').add_legend()"
   ]
  },
  {
   "cell_type": "code",
   "execution_count": null,
   "metadata": {},
   "outputs": [
    {
     "data": {
      "image/png": "[encoded data removed]",
      "text/plain": [
       "<Figure size 432x288 with 1 Axes>"
      ]
     },
     "metadata": {},
     "output_type": "display_data"
    }
   ],
   "source": [
    "Tree_fare = data.groupby('clusters')['high'].sum().to_frame().reset_index()\n",
    "Tree_fare\n",
    "squarify.plot(sizes=Tree_fare['high'],\n",
    "              label=Tree_fare['clusters'],\n",
    "              color=['blue','#66CDAA','violet',\"#F0F8FF\",\"#458B74\"],\n",
    "              pad=True);\n",
    "\n",
    "plt.title('clusters of high prices')\n",
    "plt.tight_layout()"
   ]
  },
  {
   "cell_type": "code",
   "execution_count": null,
   "metadata": {},
   "outputs": [
    {
     "data": {
      "image/png": "[encoded data removed]",
      "text/plain": [
       "<Figure size 432x288 with 1 Axes>"
      ]
     },
     "metadata": {},
     "output_type": "display_data"
    }
   ],
   "source": [
    "Tree_fare = data.groupby('clusters')['low'].sum().to_frame().reset_index()\n",
    "Tree_fare\n",
    "squarify.plot(sizes=Tree_fare['low'],\n",
    "              label=Tree_fare['clusters'],\n",
    "              color=['#A52A2A','#FFEBCD','violet',\"#DC143C\",\"#FF6103\"],\n",
    "              pad=True);\n",
    "\n",
    "plt.title('clusters of low prices')\n",
    "plt.tight_layout()"
   ]
  },
  {
   "cell_type": "code",
   "execution_count": null,
   "metadata": {},
   "outputs": [],
   "source": []
  },
  {
   "cell_type": "code",
   "execution_count": null,
   "metadata": {},
   "outputs": [],
   "source": []
  }
 ],
 "metadata": {
  "interpreter": {
   "hash": "a077222d77dfe082b8f1dd562ad70e458ac2ab76993a0b248ab0476e32e9e8dd"
  },
  "kernelspec": {
   "display_name": "Python 3.8.5 ('base')",
   "language": "python",
   "name": "python3"
  },
  "language_info": {
   "codemirror_mode": {
    "name": "ipython",
    "version": 3
   },
   "file_extension": ".py",
   "mimetype": "text/x-python",
   "name": "python",
   "nbconvert_exporter": "python",
   "pygments_lexer": "ipython3",
   "version": "3.8.5"
  }
 },
 "nbformat": 4,
 "nbformat_minor": 4
}
